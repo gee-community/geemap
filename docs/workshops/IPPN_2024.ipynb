{
 "cells": [
  {
   "cell_type": "markdown",
   "id": "0",
   "metadata": {
    "id": "0"
   },
   "source": [
    "[![image](https://colab.research.google.com/assets/colab-badge.svg)](https://colab.research.google.com/github/gee-community/geemap/blob/master/docs/workshops/IPPN_2024.ipynb)\n",
    "\n",
    "**Open Source Pipeline for UAS and satellite based High Throughput Phenotyping Applications - Part 2**\n",
    "\n",
    "This notebook is designed for workshop presented at the [International Plant Phenotyping Network (IPPN)](https://www.plant-phenotyping.org/ipps8) conference on October 7, 2024. Click the **Open in Colab** button above to run this notebook interactively in the cloud. For Part 1 of the workshop, please visit [this link](https://samgeo.gishub.org/workshops/IPPN_2024).\n",
    "\n",
    "-   Registration: <https://www.plant-phenotyping.org/index.php?index=935>\n",
    "-   Notebook: <https://samgeo.gishub.org/workshops/IPPN_2024>\n",
    "-   Earth Engine: <https://earthengine.google.com>\n",
    "-   Geemap: <https://geemap.org>\n",
    "-   Leafmap: <https://leafmap.org>\n",
    "-   Samgeo: <https://samgeo.gishub.org>\n",
    "-   Data to Science (D2S): <https://ps2.d2s.org>\n",
    "-   D2S Python API: <https://py.d2s.org>\n",
    "\n",
    "## Introduction\n",
    "\n",
    "Recent advances in sensor technology have revolutionized the assessment of crop health by providing fine spatial and high temporal resolutions at affordable costs. As plant scientists gain access to increasingly larger volumes of Unmanned Aerial Systems (UAS) and satellite High Throughput Phenotyping (HTP) data, there is a growing need to extract biologically informative and quantitative phenotypic information from the vast amount of freely available geospatial data. However, the lack of specialized software packages tailored for processing such data makes it challenging to develop transdisciplinary research collaboration around these data. This workshop aims to bridge the gap between big data and agricultural research scientists by providing training on an open-source online platform for managing big UAS HTP data known as Data to Science. Additionally, attendees will be introduced to powerful Python packages, namely leafmap and Leafmap, designed for the seamless integration and analysis of UAS and satellite images in various agricultural applications. By participating in this workshop, attendees will acquire the skills necessary to efficiently search, visualize, and analyze geospatial data within a Jupyter environment, even with minimal coding experience. The workshop provides a hands-on learning experience through practical examples and interactive exercises, enabling participants to enhance their proficiency and gain valuable insights into leveraging geospatial data for agricultural research purposes.\n",
    "\n",
    "## Agenda\n",
    "\n",
    "The main topics to be covered in this workshop include:\n",
    "\n",
    "* Create interactive maps using leafmap\n",
    "* Visualize drone imagery from D2S\n",
    "* Segment drone imagery using samgeo\n",
    "* Calculate zonal statistics from drone imagery\n",
    "* Visualize Earth Engine data\n",
    "* Create timelapse animations\n",
    "\n",
    "## Environment setup\n",
    "\n",
    "[![image](https://colab.research.google.com/assets/colab-badge.svg)](https://colab.research.google.com/github/gee-community/geemap/blob/master/docs/workshops/IPPN_2024.ipynb)\n",
    "\n",
    "### Change Colab dark theme\n",
    "\n",
    "Currently, ipywidgets does not work well with Colab dark theme. Some of the leafmap widgets may not display properly in Colab dark theme.It is recommended that you change Colab to the light theme.\n",
    "\n",
    "![image](https://github.com/user-attachments/assets/dbb33f3c-084e-4913-9e06-2b66b8dcd4e3)\n",
    "\n",
    "\n",
    "### Install packages\n",
    "\n",
    "Uncomment the following code to install the required packages."
   ]
  },
  {
   "cell_type": "code",
   "execution_count": null,
   "id": "1",
   "metadata": {},
   "outputs": [],
   "source": [
    "# %pip install -U \"geemap[workshop]\" leafmap d2spy mapclassify"
   ]
  },
  {
   "cell_type": "markdown",
   "id": "2",
   "metadata": {
    "id": "3"
   },
   "source": [
    "### Import libraries\n",
    "\n",
    "Import the necessary libraries for this workshop."
   ]
  },
  {
   "cell_type": "code",
   "execution_count": null,
   "id": "3",
   "metadata": {
    "id": "4"
   },
   "outputs": [],
   "source": [
    "import ee\n",
    "import leafmap\n",
    "import geemap\n",
    "from geemap import chart\n",
    "import matplotlib.pyplot as plt"
   ]
  },
  {
   "cell_type": "markdown",
   "id": "4",
   "metadata": {
    "id": "9"
   },
   "source": [
    "## Creating interactive maps\n",
    "\n",
    "Let's create an interactive map using the `ipyleaflet` plotting backend. The [`leafmap.Map`](https://leafmap.org/leafmap/#leafmap.leafmap.m) class inherits the [`ipyleaflet.Map`](https://ipyleaflet.readthedocs.io/en/latest/map_and_basemaps/map.html) class. Therefore, you can use the same syntax to create an interactive map as you would with `ipyleaflet.Map`."
   ]
  },
  {
   "cell_type": "code",
   "execution_count": null,
   "id": "5",
   "metadata": {},
   "outputs": [],
   "source": [
    "m = leafmap.Map()"
   ]
  },
  {
   "cell_type": "markdown",
   "id": "6",
   "metadata": {
    "id": "11"
   },
   "source": [
    "To display it in a Jupyter notebook, simply ask for the object representation:"
   ]
  },
  {
   "cell_type": "code",
   "execution_count": null,
   "id": "7",
   "metadata": {},
   "outputs": [],
   "source": [
    "m"
   ]
  },
  {
   "cell_type": "markdown",
   "id": "8",
   "metadata": {
    "id": "13"
   },
   "source": [
    "To customize the map, you can specify various keyword arguments, such as `center` ([lat, lon]), `zoom`, `width`, and `height`. The default `width` is `100%`, which takes up the entire cell width of the Jupyter notebook. The `height` argument accepts a number or a string. If a number is provided, it represents the height of the map in pixels. If a string is provided, the string must be in the format of a number followed by `px`, e.g., `600px`."
   ]
  },
  {
   "cell_type": "code",
   "execution_count": null,
   "id": "9",
   "metadata": {},
   "outputs": [],
   "source": [
    "m = leafmap.Map(center=[40, -100], zoom=4, height=\"600px\")\n",
    "m"
   ]
  },
  {
   "cell_type": "markdown",
   "id": "10",
   "metadata": {
    "id": "17"
   },
   "source": [
    "## Adding basemaps\n",
    "\n",
    "There are several ways to add basemaps to a map. You can specify the basemap to use in the `basemap` keyword argument when creating the map. Alternatively, you can add basemap layers to the map using the `add_basemap` method. leafmap has hundreds of built-in basemaps available that can be easily added to the map with only one line of code.\n",
    "\n",
    "Create a map by specifying the basemap to use as follows. For example, the `Esri.WorldImagery` basemap represents the Esri world imagery basemap."
   ]
  },
  {
   "cell_type": "code",
   "execution_count": null,
   "id": "11",
   "metadata": {},
   "outputs": [],
   "source": [
    "m = leafmap.Map(basemap=\"Esri.WorldImagery\")\n",
    "m"
   ]
  },
  {
   "cell_type": "markdown",
   "id": "12",
   "metadata": {
    "id": "19"
   },
   "source": [
    "You can add as many basemaps as you like to the map. For example, the following code adds the `OpenTopoMap` basemap to the map above:"
   ]
  },
  {
   "cell_type": "code",
   "execution_count": null,
   "id": "13",
   "metadata": {
    "id": "20",
    "outputId": "b1fea60d-6a8c-4c9e-fc13-0e3525c4a917"
   },
   "outputs": [],
   "source": [
    "m.add_basemap(\"OpenTopoMap\")"
   ]
  },
  {
   "cell_type": "markdown",
   "id": "14",
   "metadata": {
    "id": "21"
   },
   "source": [
    "You can also add an XYZ tile layer to the map."
   ]
  },
  {
   "cell_type": "code",
   "execution_count": null,
   "id": "15",
   "metadata": {
    "id": "22",
    "outputId": "c4f2108b-8a2b-4903-db1a-bcc0690a3651"
   },
   "outputs": [],
   "source": [
    "basemap_url = \"https://mt1.google.com/vt/lyrs=y&x={x}&y={y}&z={z}\"\n",
    "m.add_tile_layer(basemap_url, name=\"Hybrid\", attribution=\"Google\")"
   ]
  },
  {
   "cell_type": "markdown",
   "id": "16",
   "metadata": {
    "id": "23"
   },
   "source": [
    "You can also change basemaps interactively using the basemap GUI."
   ]
  },
  {
   "cell_type": "code",
   "execution_count": null,
   "id": "17",
   "metadata": {},
   "outputs": [],
   "source": [
    "m = leafmap.Map()\n",
    "m.add_basemap_gui()\n",
    "m"
   ]
  },
  {
   "cell_type": "markdown",
   "id": "18",
   "metadata": {
    "id": "25"
   },
   "source": [
    "## Visualizing Drone Imagery from D2S\n",
    "\n",
    "The Data to Science (D2S) platform (https://ps2.d2s.org) hosts a large collection of drone imagery that can be accessed through the D2S API (https://py.d2s.org). To visualize drone imagery from D2S, you need to [sign up](https://ps2.d2s.org/auth/register) for a free account on the D2S platform and obtain an API key."
   ]
  },
  {
   "cell_type": "markdown",
   "id": "19",
   "metadata": {
    "id": "de1a9ee4-d27e-49cb-9dcf-db32aab48ccc"
   },
   "source": [
    "### Login to D2S\n",
    "Login and connect to your D2S workspace in one go using the d2spy."
   ]
  },
  {
   "cell_type": "code",
   "execution_count": null,
   "id": "20",
   "metadata": {},
   "outputs": [],
   "source": [
    "from d2spy.workspace import Workspace\n",
    "\n",
    "# Replace with URL to a D2S instance\n",
    "d2s_url = \"https://ps2.d2s.org\"\n",
    "\n",
    "# Login and connect to workspace with your email address\n",
    "workspace = Workspace.connect(d2s_url, \"workshop@d2s.org\")"
   ]
  },
  {
   "cell_type": "code",
   "execution_count": null,
   "id": "21",
   "metadata": {},
   "outputs": [],
   "source": [
    "# Check for API key\n",
    "api_key = workspace.api_key\n",
    "if not api_key:\n",
    "    print(\n",
    "        \"No API key. Please request one from the D2S profile page and re-run this cell.\"\n",
    "    )"
   ]
  },
  {
   "cell_type": "code",
   "execution_count": null,
   "id": "22",
   "metadata": {},
   "outputs": [],
   "source": [
    "import os\n",
    "from datetime import date\n",
    "\n",
    "os.environ[\"D2S_API_KEY\"] = api_key\n",
    "os.environ[\"TITILER_ENDPOINT\"] = \"https://tt.d2s.org\""
   ]
  },
  {
   "cell_type": "markdown",
   "id": "23",
   "metadata": {
    "id": "TOx4ytjZKLOC"
   },
   "source": [
    "### Choose a project to work with\n",
    "\n",
    "The Workspace `get_projects` method will retrieve a collection of the projects your account can currently access on the D2S instance."
   ]
  },
  {
   "cell_type": "code",
   "execution_count": null,
   "id": "24",
   "metadata": {},
   "outputs": [],
   "source": [
    "# Get list of all your projects\n",
    "projects = workspace.get_projects()\n",
    "for project in projects:\n",
    "    print(project)"
   ]
  },
  {
   "cell_type": "markdown",
   "id": "25",
   "metadata": {
    "id": "zTQJkyxaKxKn"
   },
   "source": [
    "The `projects` variable is a `ProjectCollection`. The collection can be filtered by either the project descriptions or titles using the methods `filter_by_title` or `filter_by_name`."
   ]
  },
  {
   "cell_type": "code",
   "execution_count": null,
   "id": "26",
   "metadata": {},
   "outputs": [],
   "source": [
    "# Example of creating new collection of only projects with the keyword \"Corn\" in the title\n",
    "filtered_projects = projects.filter_by_title(\"Corn\")\n",
    "print(filtered_projects)"
   ]
  },
  {
   "cell_type": "markdown",
   "id": "27",
   "metadata": {
    "id": "O6fdeffmLIN5"
   },
   "source": [
    "Now you can choose a specific project to work with. In this case, the filtered projects returned only one project, so we will use that project."
   ]
  },
  {
   "cell_type": "code",
   "execution_count": null,
   "id": "28",
   "metadata": {},
   "outputs": [],
   "source": [
    "project = filtered_projects[0]"
   ]
  },
  {
   "cell_type": "markdown",
   "id": "29",
   "metadata": {},
   "source": [
    "### Get the project boundary"
   ]
  },
  {
   "cell_type": "markdown",
   "id": "30",
   "metadata": {
    "id": "yqo000pqLYn4"
   },
   "source": [
    "`get_project_boundary` method of the `Project` class will retrieve a GeoJSON object of the project boundary."
   ]
  },
  {
   "cell_type": "code",
   "execution_count": null,
   "id": "31",
   "metadata": {},
   "outputs": [],
   "source": [
    "# Get project boundary as Python dictionary in GeoJSON structure\n",
    "project_boundary = project.get_project_boundary()\n",
    "project_boundary"
   ]
  },
  {
   "cell_type": "markdown",
   "id": "32",
   "metadata": {
    "id": "OvFhMBNtLv9X"
   },
   "source": [
    "### Get project flights\n",
    "\n",
    "The `Project` `get_flights` method will retrieve a list of flights associated with the project."
   ]
  },
  {
   "cell_type": "code",
   "execution_count": null,
   "id": "33",
   "metadata": {},
   "outputs": [],
   "source": [
    "# Get list of all flights for a project\n",
    "flights = project.get_flights()\n",
    "# Print first flight object (if one exists)\n",
    "for flight in flights:\n",
    "    print(flight)"
   ]
  },
  {
   "cell_type": "markdown",
   "id": "34",
   "metadata": {
    "id": "dOlbqBhRNX4e"
   },
   "source": [
    "Now, we can choose a flight from the filtered flight. Let's choose the flight on June 8, 2023."
   ]
  },
  {
   "cell_type": "code",
   "execution_count": null,
   "id": "35",
   "metadata": {},
   "outputs": [],
   "source": [
    "flight = flights[0]\n",
    "flight"
   ]
  },
  {
   "cell_type": "markdown",
   "id": "36",
   "metadata": {
    "id": "ngIYB3tANljF"
   },
   "source": [
    "### Get data products\n",
    "\n",
    "The Flight `get_data_products` method will retrieve a list of data products associated with the flight."
   ]
  },
  {
   "cell_type": "code",
   "execution_count": null,
   "id": "37",
   "metadata": {},
   "outputs": [],
   "source": [
    "# Get list of data products from a flight\n",
    "data_products = flight.get_data_products()\n",
    "\n",
    "for data_product in data_products:\n",
    "    print(data_product)"
   ]
  },
  {
   "cell_type": "markdown",
   "id": "38",
   "metadata": {
    "id": "yiKBMsv7N4cy"
   },
   "source": [
    "The `data_products` variable is a `DataProductCollection`. The collection can be filtered by data type using the method `filter_by_data_type`. This method will return all data products that match the requested data type."
   ]
  },
  {
   "cell_type": "code",
   "execution_count": null,
   "id": "39",
   "metadata": {},
   "outputs": [],
   "source": [
    "# Example of creating new collection of data products with the \"ortho\" data type\n",
    "ortho_data_products = data_products.filter_by_data_type(\"ortho\")\n",
    "print(ortho_data_products)"
   ]
  },
  {
   "cell_type": "markdown",
   "id": "40",
   "metadata": {
    "id": "ZryOKEuROOnu"
   },
   "source": [
    "### Visualize ortho imagery\n",
    "\n",
    "Now we can grab the ortho URL to display it using leafmap."
   ]
  },
  {
   "cell_type": "code",
   "execution_count": null,
   "id": "41",
   "metadata": {},
   "outputs": [],
   "source": [
    "m = leafmap.Map()\n",
    "m.add_basemap(\"HYBRID\", show=False)\n",
    "ortho_data = ortho_data_products[0]\n",
    "ortho_url_202306 = ortho_data.url\n",
    "ortho_url_202306 = leafmap.d2s_tile(ortho_url_202306)\n",
    "m.add_cog_layer(ortho_url_202306, name=\"Ortho Imagery 202306\")\n",
    "m"
   ]
  },
  {
   "cell_type": "markdown",
   "id": "42",
   "metadata": {},
   "source": [
    "![image](https://github.com/user-attachments/assets/f1fecddf-3fbb-4735-9db1-cb2228f9749d)"
   ]
  },
  {
   "cell_type": "markdown",
   "id": "43",
   "metadata": {
    "id": "37"
   },
   "source": [
    "Add the project boundary to the map."
   ]
  },
  {
   "cell_type": "code",
   "execution_count": null,
   "id": "44",
   "metadata": {},
   "outputs": [],
   "source": [
    "m.add_geojson(project_boundary, layer_name=\"Project Boundary\", info_mode=None)"
   ]
  },
  {
   "cell_type": "markdown",
   "id": "45",
   "metadata": {},
   "source": [
    "Add grid boundaries to the map."
   ]
  },
  {
   "cell_type": "code",
   "execution_count": null,
   "id": "46",
   "metadata": {},
   "outputs": [],
   "source": [
    "map_layers = project.get_map_layers()\n",
    "grid_boundaries = map_layers[0]"
   ]
  },
  {
   "cell_type": "code",
   "execution_count": null,
   "id": "47",
   "metadata": {},
   "outputs": [],
   "source": [
    "m.add_geojson(grid_boundaries, layer_name=\"Grid Boundaries\")"
   ]
  },
  {
   "cell_type": "markdown",
   "id": "48",
   "metadata": {},
   "source": [
    "## Visualizing Earth Engine data\n",
    "\n",
    "### Authenticate and initialize Earth Engine\n",
    "\n",
    "You will need to create a [Google Cloud Project](https://console.cloud.google.com/projectcreate) and enable the [Earth Engine API](https://console.cloud.google.com/apis/api/earthengine.googleapis.com) for the project. You can find detailed instructions [here](https://book.geemap.org/chapters/01_introduction.html#earth-engine-authentication).\n",
    "\n",
    "Login to Earth Engine JavaScript Code Editor at [https://code.earthengine.google.com](https://code.earthengine.google.com) and click on th profile icon at the top right. Remember the project ID listed in the dialog that appears. Uncomment the following code block and replace `YOUR_PROJECT_ID` with your project ID."
   ]
  },
  {
   "cell_type": "code",
   "execution_count": null,
   "id": "49",
   "metadata": {},
   "outputs": [],
   "source": [
    "# os.environ[\"EE_PROJECT_ID\"] = \"YOUR-PROJECT-ID\""
   ]
  },
  {
   "cell_type": "markdown",
   "id": "50",
   "metadata": {},
   "source": [
    "Then, run the code block to authenticate and initialize the Earth Engine Python API."
   ]
  },
  {
   "cell_type": "code",
   "execution_count": null,
   "id": "51",
   "metadata": {},
   "outputs": [],
   "source": [
    "geemap.ee_initialize(project=None)"
   ]
  },
  {
   "cell_type": "markdown",
   "id": "52",
   "metadata": {},
   "source": [
    "### Create an interactive map"
   ]
  },
  {
   "cell_type": "code",
   "execution_count": null,
   "id": "53",
   "metadata": {},
   "outputs": [],
   "source": [
    "m = geemap.Map(center=[40.565282, -86.959159], zoom=16)\n",
    "m.add_basemap(\"Esri.WorldImagery\")\n",
    "m._toolbar.toggle_layers(False)\n",
    "m"
   ]
  },
  {
   "cell_type": "markdown",
   "id": "54",
   "metadata": {},
   "source": [
    "### Visualize project boundary"
   ]
  },
  {
   "cell_type": "code",
   "execution_count": null,
   "id": "55",
   "metadata": {},
   "outputs": [],
   "source": [
    "project_boundary_ee = ee.FeatureCollection(geemap.geojson_to_ee(project_boundary))\n",
    "style = {\"color\": \"yellow\", \"fillColor\": \"#00000000\"}\n",
    "m.add_layer(project_boundary_ee.style(**style), {}, name=\"Project Boundary\")"
   ]
  },
  {
   "cell_type": "markdown",
   "id": "56",
   "metadata": {},
   "source": [
    "### Visualize grid boundaries"
   ]
  },
  {
   "cell_type": "code",
   "execution_count": null,
   "id": "57",
   "metadata": {},
   "outputs": [],
   "source": [
    "grid_boundaries_ee = ee.FeatureCollection(geemap.geojson_to_ee(grid_boundaries))\n",
    "style = {\"color\": \"red\", \"fillColor\": \"#00000000\"}\n",
    "m.add_layer(grid_boundaries_ee.style(**style), {}, name=\"Tree Boundaries\")"
   ]
  },
  {
   "cell_type": "markdown",
   "id": "58",
   "metadata": {},
   "source": [
    "### Create NAIP timeseries"
   ]
  },
  {
   "cell_type": "code",
   "execution_count": null,
   "id": "59",
   "metadata": {},
   "outputs": [],
   "source": [
    "naip_timeseries = geemap.naip_timeseries(project_boundary_ee)\n",
    "naip_timeseries"
   ]
  },
  {
   "cell_type": "code",
   "execution_count": null,
   "id": "60",
   "metadata": {},
   "outputs": [],
   "source": [
    "m.add_time_slider(\n",
    "    naip_timeseries, vis_params={\"bands\": [\"R\", \"G\", \"B\"]}, layer_name=\"NAIP\"\n",
    ")"
   ]
  },
  {
   "cell_type": "markdown",
   "id": "61",
   "metadata": {},
   "source": [
    "### Create Sentinel-2 timeseries"
   ]
  },
  {
   "cell_type": "code",
   "execution_count": null,
   "id": "62",
   "metadata": {},
   "outputs": [],
   "source": [
    "start_date = \"2023-01-01\"\n",
    "end_date = \"2023-12-31\"\n",
    "collection = ee.ImageCollection(\"COPERNICUS/S2_HARMONIZED\")\n",
    "images = (\n",
    "    collection.filterBounds(project_boundary_ee)\n",
    "    .filterDate(start_date, end_date)\n",
    "    .filterMetadata(\"CLOUDY_PIXEL_PERCENTAGE\", \"less_than\", 1)\n",
    "    .select([\"B2\", \"B3\", \"B4\", \"B8\"])\n",
    "    .map(\n",
    "        lambda img: img.divide(10000)\n",
    "        .clipToCollection(project_boundary_ee)\n",
    "        .copyProperties(img, img.propertyNames())\n",
    "    )\n",
    ")\n",
    "images.size()"
   ]
  },
  {
   "cell_type": "code",
   "execution_count": null,
   "id": "63",
   "metadata": {},
   "outputs": [],
   "source": [
    "dates = ee.List(geemap.image_dates(images)).distinct()\n",
    "dates"
   ]
  },
  {
   "cell_type": "markdown",
   "id": "64",
   "metadata": {},
   "source": [
    "### Create NDVI timeseries"
   ]
  },
  {
   "cell_type": "code",
   "execution_count": null,
   "id": "65",
   "metadata": {},
   "outputs": [],
   "source": [
    "def create_timeseries(date):\n",
    "    date = ee.Date(date)\n",
    "    image = images.filterDate(date, date.advance(1, \"day\")).mosaic()\n",
    "    image = image.addBands(image.normalizedDifference([\"B8\", \"B4\"]).rename(\"NDVI\"))\n",
    "    return image.set(\"system:time_start\", date.millis())\n",
    "\n",
    "\n",
    "s2_timeseries = ee.ImageCollection(dates.map(create_timeseries))"
   ]
  },
  {
   "cell_type": "code",
   "execution_count": null,
   "id": "66",
   "metadata": {},
   "outputs": [],
   "source": [
    "s2_timeseries"
   ]
  },
  {
   "cell_type": "code",
   "execution_count": null,
   "id": "67",
   "metadata": {},
   "outputs": [],
   "source": [
    "m = geemap.Map(center=[40.565282, -86.959159], zoom=16)\n",
    "m.add_basemap(\"Esri.WorldImagery\")\n",
    "m._toolbar.toggle_layers(False)\n",
    "m"
   ]
  },
  {
   "cell_type": "markdown",
   "id": "68",
   "metadata": {},
   "source": [
    "![image](https://github.com/user-attachments/assets/ed0259f1-e085-4ee5-81f0-cc2bab8c487b)"
   ]
  },
  {
   "cell_type": "code",
   "execution_count": null,
   "id": "69",
   "metadata": {},
   "outputs": [],
   "source": [
    "vis_params = {\"min\": 0, \"max\": 0.3, \"bands\": [\"B4\", \"B3\", \"B2\"]}\n",
    "m.add_time_slider(s2_timeseries, vis_params=vis_params, layer_name=\"Sentinel-2\")"
   ]
  },
  {
   "cell_type": "code",
   "execution_count": null,
   "id": "70",
   "metadata": {},
   "outputs": [],
   "source": [
    "grid_boundaries_ee = ee.FeatureCollection(geemap.geojson_to_ee(grid_boundaries))\n",
    "style = {\"color\": \"red\", \"fillColor\": \"#00000000\"}\n",
    "m.add_layer(grid_boundaries_ee.style(**style), {}, name=\"Tree Boundaries\")"
   ]
  },
  {
   "cell_type": "code",
   "execution_count": null,
   "id": "71",
   "metadata": {},
   "outputs": [],
   "source": [
    "grid_df = geemap.ee_to_df(grid_boundaries_ee)\n",
    "grid_df"
   ]
  },
  {
   "cell_type": "code",
   "execution_count": null,
   "id": "72",
   "metadata": {},
   "outputs": [],
   "source": [
    "ndvi_ts = s2_timeseries.select(\"NDVI\").toBands()\n",
    "ndvi_ts = ndvi_ts.select(ndvi_ts.bandNames(), dates)\n",
    "ndvi_ts"
   ]
  },
  {
   "cell_type": "markdown",
   "id": "73",
   "metadata": {},
   "source": [
    "## Analyzing Earth Engine data\n",
    "\n",
    "### Calculate zonal statistics"
   ]
  },
  {
   "cell_type": "code",
   "execution_count": null,
   "id": "74",
   "metadata": {},
   "outputs": [],
   "source": [
    "stats = geemap.zonal_stats(\n",
    "    ndvi_ts,\n",
    "    grid_boundaries_ee,\n",
    "    scale=10,\n",
    "    stat_type=\"mean\",\n",
    "    verbose=False,\n",
    "    return_fc=True,\n",
    ")\n",
    "gdf = geemap.ee_to_gdf(stats)\n",
    "gdf.head()"
   ]
  },
  {
   "cell_type": "code",
   "execution_count": null,
   "id": "75",
   "metadata": {},
   "outputs": [],
   "source": [
    "gdf.explore()"
   ]
  },
  {
   "cell_type": "markdown",
   "id": "76",
   "metadata": {},
   "source": [
    "### Plot NDVI graphs"
   ]
  },
  {
   "cell_type": "code",
   "execution_count": null,
   "id": "77",
   "metadata": {},
   "outputs": [],
   "source": [
    "fig = chart.image_series(\n",
    "    s2_timeseries,\n",
    "    region=grid_boundaries_ee,\n",
    "    reducer=ee.Reducer.mean(),\n",
    "    scale=10,\n",
    "    x_property=\"system:time_start\",\n",
    "    chart_type=\"LineChart\",\n",
    "    x_cols=\"date\",\n",
    "    y_cols=[\"NDVI\"],\n",
    "    legend_location=\"right\",\n",
    ")\n",
    "fig"
   ]
  },
  {
   "cell_type": "markdown",
   "id": "78",
   "metadata": {},
   "source": [
    "![image](https://github.com/user-attachments/assets/2d83414e-8d03-4374-a8f1-6bf590e92a51)"
   ]
  },
  {
   "cell_type": "code",
   "execution_count": null,
   "id": "79",
   "metadata": {},
   "outputs": [],
   "source": [
    "# Extract columns with dates (assuming they're strings that look like '2023-01-10')\n",
    "date_columns = gdf.columns[gdf.columns.str.contains(r\"\\d{4}-\\d{2}-\\d{2}\")]\n",
    "\n",
    "# Extract the relevant date columns and transpose the dataframe for plotting\n",
    "data_to_plot = gdf[date_columns].T\n",
    "\n",
    "# Plot each row as a separate line\n",
    "plt.figure(figsize=(15, 6))\n",
    "\n",
    "for idx in range(data_to_plot.shape[1]):\n",
    "    plt.plot(data_to_plot.index, data_to_plot.iloc[:, idx], label=f\"Row {idx+1}\")\n",
    "\n",
    "plt.xlabel(\"Dates\")\n",
    "plt.ylabel(\"NDVI\")\n",
    "plt.title(\"Normalized Difference Vegetation Index (NDVI) Time Series\")\n",
    "plt.xticks(rotation=45)\n",
    "# plt.legend(loc='upper right', bbox_to_anchor=(1.15, 1))\n",
    "plt.tight_layout()\n",
    "plt.show()"
   ]
  },
  {
   "cell_type": "markdown",
   "id": "80",
   "metadata": {},
   "source": [
    "![image](https://github.com/user-attachments/assets/b6307481-df51-4ebb-a9ca-977c18f90e77)"
   ]
  }
 ],
 "metadata": {
  "colab": {
   "provenance": []
  },
  "kernelspec": {
   "display_name": "geo",
   "language": "python",
   "name": "python3"
  },
  "language_info": {
   "codemirror_mode": {
    "name": "ipython",
    "version": 3
   },
   "file_extension": ".py",
   "mimetype": "text/x-python",
   "name": "python",
   "nbconvert_exporter": "python",
   "pygments_lexer": "ipython3",
   "version": "3.11.8"
  }
 },
 "nbformat": 4,
 "nbformat_minor": 5
}

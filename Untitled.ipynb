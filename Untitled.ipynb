{
 "cells": [
  {
   "cell_type": "code",
   "execution_count": 1,
   "id": "597a1b06-c956-47c1-a415-074a083e435d",
   "metadata": {},
   "outputs": [
    {
     "name": "stdout",
     "output_type": "stream",
     "text": [
      "0.35.0\n"
     ]
    },
    {
     "data": {
      "application/vnd.jupyter.widget-view+json": {
       "model_id": "f145484b45e04e3fa42f56fc081b5494",
       "version_major": 2,
       "version_minor": 0
      },
      "text/plain": [
       "Map(center=[0, 0], controls=(WidgetControl(options=['position', 'transparent_bg'], widget=SearchDataGUI(childr…"
      ]
     },
     "metadata": {},
     "output_type": "display_data"
    }
   ],
   "source": [
    "import ee\n",
    "import geemap\n",
    "\n",
    "print(geemap.__version__)\n",
    "\n",
    "ee.Authenticate()\n",
    "ee.Initialize(project='ee-nschmitz-free')\n",
    "\n",
    "map = geemap.Map()\n",
    "\n",
    "reflectance = ee.ImageCollection('MODIS/061/MOD09Q1')\n",
    "boundaries = ee.FeatureCollection('FAO/GAUL_SIMPLIFIED_500m/2015/level2')\n",
    "\n",
    "start = '2019-01-01'\n",
    "end = '2020-01-31'\n",
    "reflectance = reflectance.filterDate(start, end)\n",
    "\n",
    "def add_ndvi_band(image):\n",
    "   ndvi = image.normalizedDifference(['sur_refl_b02', 'sur_refl_b01'])\n",
    "   return image.addBands(ndvi.rename('ndvi'))\n",
    "\n",
    "max_ndvi = reflectance.map(add_ndvi_band).select('ndvi').max()\n",
    "\n",
    "map.add_layer(ee.ImageCollection('MODIS/006/MOD44B'), {}, \"MODIS\")\n",
    "map.add_layer(max_ndvi, {}, \"Max NDVI\")\n",
    "# map.add_layer(max_ndvi)\n",
    "# map.add_layer(ee.FeatureCollection(\"USDOS/LSIB/2017\"))\n",
    "map.add_layer(ee.FeatureCollection(\"USDOS/LSIB/2017\"), {}, \"Country borders\")\n",
    "# map.remove(\"layer_manager\")\n",
    "display(map)\n",
    "\n",
    "# map.add(\"inspector\")"
   ]
  }
 ],
 "metadata": {
  "kernelspec": {
   "display_name": "Python 3 (ipykernel)",
   "language": "python",
   "name": "python3"
  },
  "language_info": {
   "codemirror_mode": {
    "name": "ipython",
    "version": 3
   },
   "file_extension": ".py",
   "mimetype": "text/x-python",
   "name": "python",
   "nbconvert_exporter": "python",
   "pygments_lexer": "ipython3",
   "version": "3.11.9"
  }
 },
 "nbformat": 4,
 "nbformat_minor": 5
}
